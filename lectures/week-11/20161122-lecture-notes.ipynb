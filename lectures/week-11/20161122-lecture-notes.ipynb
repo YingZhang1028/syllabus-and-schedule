{
 "cells": [
  {
   "cell_type": "markdown",
   "metadata": {},
   "source": [
    "# A brief tour of Spark\n",
    "\n",
    "\n",
    "[Apache Spark](http://spark.apache.org/) is \"a fast and general engine for large-scale data processing.\"  It comes from the broader Hadoop ecosystem but can be used in a near-standalone mode, which we'll use here.\n",
    "\n",
    "This is a Jupyter notebook with PySpark enabled.  To enable PySpark, you need to have Spark available, and certain environment variables set.  On an Ubuntu-16.04 machine, where you've [downloaded the latest Spark](https://spark.apache.org/downloads.html):\n",
    "\n",
    "```\n",
    "% sudo apt-get install openjdk-9-jre-headless\n",
    "% tar xvzf spark-2.0.2-bin-hadoop2.7.tgz\n",
    "% export PATH=`pwd`/spark-2.0.2-bin-hadoop2.7/bin:$PATH\n",
    "% export PYSPARK_DRIVER_PYTHON=jupyter\n",
    "% export PYSPARK_DRIVER_PYTHON_OPTS='notebook' pyspark\n",
    "% pyspark\n",
    "```\n",
    "\n",
    "This file tells Jupyter exactly how to connect with Spark and Python.  Start a new Python notebook in Jupyter after it opens up, and note that you are getting a little more output from Jupyter in your shell window than normal.  That's Spark - it's a little wordy.\n",
    "\n",
    "\n",
    "## Getting started with SparkContext and RDDs\n",
    "\n",
    "Working with Spark, everything goes through a SparkContext object.  It's available (after several seconds of startup time - look at the shell window where you started the Jupyter notebook and you'll see a lot of Spark startup messages) as the object ```sc```:"
   ]
  },
  {
   "cell_type": "code",
   "execution_count": null,
   "metadata": {
    "collapsed": false
   },
   "outputs": [],
   "source": [
    "sc"
   ]
  },
  {
   "cell_type": "markdown",
   "metadata": {},
   "source": [
    "Everything you do with Spark here will go through this object.  It is a feature of pySpark to define and make this available in the shell environment, and the Jupyter kernel makes that available through a notebook.\n",
    "\n",
    "The key construct in Spark is a Resilient Distributed Dataset, or RDD.  An RDD leverages the data- and computing resource-tracking capabilities of the Hadoop infrastructure layer to make a dataset available in RAM.  This is a key enhancement over the Hadoop or broader Map/Reduce model where data for every step of computation comes from disk and returns to disk between steps.  Using RAM like this makes everything go faster.\n",
    "\n",
    "Another key concept in Spark is that it will split up your data and handling the low-level details of mapping, shuffling, and reducing data for you.  Rather than the Hadoop style code we saw previously, Spark introduces a few language constructs that are easy to learn and work with.  Let's go through those basics now.\n",
    "\n",
    "First, let's load up data.  The simplest way is to use the SparkContext to access a text file.  Let's visit our Bikeshare data one last time."
   ]
  },
  {
   "cell_type": "code",
   "execution_count": null,
   "metadata": {
    "collapsed": false
   },
   "outputs": [],
   "source": [
    "!wget https://s3.amazonaws.com/capitalbikeshare-data/2015-Q4-cabi-trip-history-data.zip"
   ]
  },
  {
   "cell_type": "code",
   "execution_count": null,
   "metadata": {
    "collapsed": false
   },
   "outputs": [],
   "source": [
    "!unzip 2015-Q4-cabi-trip-history-data.zip"
   ]
  },
  {
   "cell_type": "code",
   "execution_count": null,
   "metadata": {
    "collapsed": true
   },
   "outputs": [],
   "source": [
    "!mv 2015-Q4-Trips-History-Data.csv q4.csv"
   ]
  },
  {
   "cell_type": "code",
   "execution_count": null,
   "metadata": {
    "collapsed": false
   },
   "outputs": [],
   "source": [
    "!wc -l q4.csv"
   ]
  },
  {
   "cell_type": "markdown",
   "metadata": {},
   "source": [
    "This is the same trip dataset we looked at previously, with the familiar format:"
   ]
  },
  {
   "cell_type": "code",
   "execution_count": null,
   "metadata": {
    "collapsed": false
   },
   "outputs": [],
   "source": [
    "!csvcut -n q4.csv"
   ]
  },
  {
   "cell_type": "code",
   "execution_count": null,
   "metadata": {
    "collapsed": false
   },
   "outputs": [],
   "source": [
    "!head -5 q4.csv | csvlook"
   ]
  },
  {
   "cell_type": "markdown",
   "metadata": {},
   "source": [
    "## Python modules\n",
    "\n",
    "Always good to bring your imports together in one place."
   ]
  },
  {
   "cell_type": "code",
   "execution_count": 4,
   "metadata": {
    "collapsed": true
   },
   "outputs": [],
   "source": [
    "from operator import add"
   ]
  },
  {
   "cell_type": "markdown",
   "metadata": {},
   "source": [
    "To prep the data for use as an RDD, we just need one line:"
   ]
  },
  {
   "cell_type": "code",
   "execution_count": null,
   "metadata": {
    "collapsed": true
   },
   "outputs": [],
   "source": [
    "rides = sc.textFile('q4.csv')"
   ]
  },
  {
   "cell_type": "markdown",
   "metadata": {},
   "source": [
    "See how quickly it returned?  That's because (as we learned from Hari, Nisha, and Mokeli) the processing of the data is deferred - we haven't actually done anything with it but prepare it for use as an RDD within Spark.  \n",
    "\n",
    "Let's do something simple first."
   ]
  },
  {
   "cell_type": "code",
   "execution_count": null,
   "metadata": {
    "collapsed": false
   },
   "outputs": [],
   "source": [
    "rides.count()"
   ]
  },
  {
   "cell_type": "markdown",
   "metadata": {},
   "source": [
    "That took a little bit longer.  To see why, we can jump over to the Spark UI.  On my machine right now, it's available at http://localhost:4040/jobs/ but note that that URL might not work for you - it's just local to my machine.\n",
    "\n",
    "### (Explore the Spark UI a little bit)\n",
    "\n",
    "You can find your local Spark UI by examining the text output from the same shell window we looked back at a little while ago.  The one where you started Jupyter and saw all the Spark startup information will now have a bunch of lines about the job we processed.  Scroll back and look for something like this up near the top:\n",
    "\n",
    "  INFO SparkUI: Started SparkUI at http://localhost:4040/jobs/\n",
    "  \n",
    "Whatever that URL is on your VM, that's where you can find the Spark UI on your host.\n",
    "\n",
    "Reviewing the resulting data from that one simple job -- counting lines -- tells us a lot about what the Hadoop environment and Spark on top of it do automatically for us.  Remember that point about how these tools make it easier for us to write code that uses parallel computing without having to be experts?"
   ]
  },
  {
   "cell_type": "markdown",
   "metadata": {},
   "source": [
    "Let's do something a little more interesting.  This is a CSV file, so let's count ride stations pairs.  To do this we need to map each input line and extract the start and stop station, then we need to reduce that by aggregating the count lines.  Fortunately we can do that with the Python keywords ```map``` (which maps input data to an output), ```filter``` (which selects or filters some data from a larger set based on a test), and ```lambda``` (which defines \"anonymous\" functions inline).  These are common functional programming constructs and date back many, many decades, so they are a natural fit here because the Map/Reduce paradigm itself is a functional model.\n",
    "\n",
    "First, we split up the data rows, our map step."
   ]
  },
  {
   "cell_type": "code",
   "execution_count": null,
   "metadata": {
    "collapsed": true
   },
   "outputs": [],
   "source": [
    "station_pairs = rides \\\n",
    "    .map(lambda r: r.split(\",\")) \\\n",
    "    .map(lambda r: ((r[4], r[6]), 1))"
   ]
  },
  {
   "cell_type": "markdown",
   "metadata": {},
   "source": [
    "Several things to note here:\n",
    "\n",
    " * That was instantaneous.  We haven't computed anything yet - this is \"lazy evaluation\".\n",
    " * ```lambda``` takes an input (here ```r```) and returns a result (here the split array once, then a tuple of the two station names with a counter, 1).  It's like you're defining a function right in the middle of other code and not giving it a name.  That's why they're called \"anonymous\" or \"inline\" functions.\n",
    " * We are chaining two ```map``` commands together.  This should look familiar - it's just like piping.\n",
    " \n",
    "This leaves us with a mapped data structure that needs to be reduced."
   ]
  },
  {
   "cell_type": "code",
   "execution_count": null,
   "metadata": {
    "collapsed": false
   },
   "outputs": [],
   "source": [
    "key_func = lambda k, v: -v\n",
    "station_counts = station_pairs \\\n",
    "    .reduceByKey(add) \\\n",
    "    .takeOrdered(10, key=lambda r: -r[1])\n",
    "station_counts"
   ]
  },
  {
   "cell_type": "markdown",
   "metadata": {},
   "source": [
    "(look at the Spark UI again for this job!)\n",
    "\n",
    "There we go, the counts of station pairs.  Lots of people riding around the mall, and from Eastern Market to Lincoln Park (my neighborhood!).\n",
    "\n",
    "What just happened?\n",
    "\n",
    "  * We imported the ```add``` operation for use as a parameter to ```reduceByKey```\n",
    "  * ```reduceByKey``` is a Spark verb that lets us reduce mapped data, in this case, something like a ```GROUP BY``` operation, where we operate on the RDD provided using the function passed in as a parameter:  ```add```\n",
    "  * We finally execute the whole operation with ```takeOrdered```, which invokes the full computation and takes the top 10 results.\n",
    "  * We calculate the top 10 with the anonymous sort key function ```lambda r: -r[1]``` which returns a descending sort result set of the added up key/count pairs by their counts.\n",
    "  * We show the result, ```station_counts```\n",
    "  \n",
    "There we go!  We just computed something using Hadoop and Spark.  \n",
    "\n",
    "Of course we can do the same thing with ```csvcut | sort | uniq -c | sort -rn | head```, right?"
   ]
  },
  {
   "cell_type": "code",
   "execution_count": null,
   "metadata": {
    "collapsed": false
   },
   "outputs": [],
   "source": [
    "!csvcut -c5,7 q4.csv | sort | uniq -c | sort -rn | head"
   ]
  },
  {
   "cell_type": "markdown",
   "metadata": {},
   "source": [
    "Which took longer?  \n",
    "\n",
    "Why?"
   ]
  },
  {
   "cell_type": "markdown",
   "metadata": {},
   "source": [
    "## Computing some numbers\n",
    "\n",
    "Counting is well and good, but let's do a little math and get some basic descriptive statistics.  Let's reimplement our milliseconds-to-minutes conversion, then find what the central tendencies of the duration might be."
   ]
  },
  {
   "cell_type": "markdown",
   "metadata": {},
   "source": [
    "Great.  Now to compute the duration in minutes, which we'll get in seconds from a datediff, then divide by 60."
   ]
  },
  {
   "cell_type": "code",
   "execution_count": null,
   "metadata": {
    "collapsed": false
   },
   "outputs": [],
   "source": [
    "def get_duration_min(ms):\n",
    "    return int(ms) / (60 * 1000)\n",
    "\n",
    "get_duration_min('696038')"
   ]
  },
  {
   "cell_type": "markdown",
   "metadata": {},
   "source": [
    "We'll use this function in our pipeline in a moment.\n",
    "\n",
    "Next we need to reach for [Spark Statistics](http://spark.apache.org/docs/latest/mllib-statistics.html):"
   ]
  },
  {
   "cell_type": "code",
   "execution_count": null,
   "metadata": {
    "collapsed": false
   },
   "outputs": [],
   "source": [
    "import numpy as np\n",
    "from pyspark.mllib.stat import Statistics"
   ]
  },
  {
   "cell_type": "markdown",
   "metadata": {},
   "source": [
    "To generate summary statistics, we need to first create a vector of data, in this case our duration counts.\n",
    "\n",
    "First we need a little trick to skip the first line, our header row."
   ]
  },
  {
   "cell_type": "code",
   "execution_count": null,
   "metadata": {
    "collapsed": false
   },
   "outputs": [],
   "source": [
    "header = rides.first()\n",
    "rides = rides.filter(lambda x: x != header)"
   ]
  },
  {
   "cell_type": "markdown",
   "metadata": {},
   "source": [
    "Next we have to get our durations from the source data.  Note that we next have to wrap these in NumPy vectors."
   ]
  },
  {
   "cell_type": "code",
   "execution_count": null,
   "metadata": {
    "collapsed": false
   },
   "outputs": [],
   "source": [
    "durations = rides \\\n",
    "    .map(lambda r: r.split(\",\")) \\\n",
    "    .map(lambda r: np.array([get_duration_min(r[0])]))\n",
    "durations.take(5)"
   ]
  },
  {
   "cell_type": "markdown",
   "metadata": {},
   "source": [
    "Now we just feed that to a Summarizer:"
   ]
  },
  {
   "cell_type": "code",
   "execution_count": null,
   "metadata": {
    "collapsed": false
   },
   "outputs": [],
   "source": [
    "summary = Statistics.colStats(durations)\n",
    "print(summary.mean())\n",
    "print(summary.variance())\n",
    "print(summary.numNonzeros())"
   ]
  },
  {
   "cell_type": "markdown",
   "metadata": {},
   "source": [
    "## Counting words\n",
    "\n",
    "We can revisit our word count example as well.  Let's reach back for another familiar dataset:"
   ]
  },
  {
   "cell_type": "code",
   "execution_count": null,
   "metadata": {
    "collapsed": false
   },
   "outputs": [],
   "source": [
    "!wget https://github.com/gwsb-istm-6212-fall-2016/syllabus-and-schedule/raw/master/exercises/pg2500.txt"
   ]
  },
  {
   "cell_type": "code",
   "execution_count": null,
   "metadata": {
    "collapsed": true
   },
   "outputs": [],
   "source": [
    "!mv pg2500.txt siddhartha.txt"
   ]
  },
  {
   "cell_type": "code",
   "execution_count": null,
   "metadata": {
    "collapsed": true
   },
   "outputs": [],
   "source": [
    "siddhartha_text = sc.textFile('siddhartha.txt')"
   ]
  },
  {
   "cell_type": "code",
   "execution_count": null,
   "metadata": {
    "collapsed": false
   },
   "outputs": [],
   "source": [
    "word_counts = siddhartha_text \\\n",
    "    .flatMap(lambda line: line.lower().split(\" \")) \\\n",
    "    .map(lambda word: (word, 1)) \\\n",
    "    .reduceByKey(add)"
   ]
  },
  {
   "cell_type": "code",
   "execution_count": null,
   "metadata": {
    "collapsed": false
   },
   "outputs": [],
   "source": [
    "word_counts.takeOrdered(25, lambda w: -w[1])"
   ]
  },
  {
   "cell_type": "markdown",
   "metadata": {},
   "source": [
    "What do you see that we could improve in this word count?"
   ]
  },
  {
   "cell_type": "code",
   "execution_count": 1,
   "metadata": {
    "collapsed": true
   },
   "outputs": [],
   "source": [
    "many_texts = sc.textFile('texts/*.txt')"
   ]
  },
  {
   "cell_type": "code",
   "execution_count": 5,
   "metadata": {
    "collapsed": false
   },
   "outputs": [],
   "source": [
    "word_counts = many_texts \\\n",
    "    .flatMap(lambda line: line.lower().split(\" \")) \\\n",
    "    .map(lambda word: (word, 1)) \\\n",
    "    .reduceByKey(add)"
   ]
  },
  {
   "cell_type": "code",
   "execution_count": null,
   "metadata": {
    "collapsed": true
   },
   "outputs": [],
   "source": [
    "word_count"
   ]
  }
 ],
 "metadata": {
  "anaconda-cloud": {},
  "kernelspec": {
   "display_name": "Python [conda env:mc3-class]",
   "language": "python",
   "name": "conda-env-mc3-class-py"
  },
  "language_info": {
   "codemirror_mode": {
    "name": "ipython",
    "version": 3
   },
   "file_extension": ".py",
   "mimetype": "text/x-python",
   "name": "python",
   "nbconvert_exporter": "python",
   "pygments_lexer": "ipython3",
   "version": "3.5.2"
  }
 },
 "nbformat": 4,
 "nbformat_minor": 0
}
